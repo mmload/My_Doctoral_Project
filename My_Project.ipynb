{
  "nbformat": 4,
  "nbformat_minor": 0,
  "metadata": {
    "colab": {
      "name": "My Project.ipynb",
      "version": "0.3.2",
      "provenance": [],
      "include_colab_link": true
    },
    "kernelspec": {
      "name": "python3",
      "display_name": "Python 3"
    }
  },
  "cells": [
    {
      "cell_type": "markdown",
      "metadata": {
        "id": "view-in-github",
        "colab_type": "text"
      },
      "source": [
        "<a href=\"https://colab.research.google.com/github/mmload/My_Project/blob/master/My_Project.ipynb\" target=\"_parent\"><img src=\"https://colab.research.google.com/assets/colab-badge.svg\" alt=\"Open In Colab\"/></a>"
      ]
    },
    {
      "cell_type": "code",
      "metadata": {
        "id": "9SyGYKw04RJb",
        "colab_type": "code",
        "colab": {}
      },
      "source": [
        "import numpy as np\n",
        "import random\n",
        "from PIL import Image,ImageDraw\n",
        "from matplotlib.pyplot import imshow"
      ],
      "execution_count": 0,
      "outputs": []
    },
    {
      "cell_type": "code",
      "metadata": {
        "id": "vc6SzVQg4VQb",
        "colab_type": "code",
        "outputId": "73875940-72cb-421a-9140-e6cd00193817",
        "colab": {
          "base_uri": "https://localhost:8080/",
          "height": 286
        }
      },
      "source": [
        "# Create empty black canvas\n",
        "im = Image.new('RGB', (255, 255))\n",
        "\n",
        "# Draw red and yellow triangles on it and save\n",
        "draw = ImageDraw.Draw(im)\n",
        "draw.polygon([(20,10), (200, 200), (100,20)], fill = (255,0,0))\n",
        "draw.polygon([(200,10), (200, 200), (150,50)], fill = 'yellow')\n",
        "del draw\n",
        "\n",
        "im.save('result.png')\n",
        "imshow(im)"
      ],
      "execution_count": 0,
      "outputs": [
        {
          "output_type": "execute_result",
          "data": {
            "text/plain": [
              "<matplotlib.image.AxesImage at 0x7f1e62b59278>"
            ]
          },
          "metadata": {
            "tags": []
          },
          "execution_count": 3
        },
        {
          "output_type": "display_data",
          "data": {
            "image/png": "[encoded data removed]",
            "text/plain": [
              "<Figure size 432x288 with 1 Axes>"
            ]
          },
          "metadata": {
            "tags": []
          }
        }
      ]
    },
    {
      "cell_type": "code",
      "metadata": {
        "id": "xMqyPws3CFVr",
        "colab_type": "code",
        "outputId": "dfeb470d-0234-4d72-ffcf-39998dc9d096",
        "colab": {
          "base_uri": "https://localhost:8080/",
          "height": 286
        }
      },
      "source": [
        "def randCoOr():\n",
        "  rand = (random.randint(0,255),random.randint(0,255))\n",
        "  return rand\n",
        "\n",
        "def randTri(im,fill):\n",
        "  draw = ImageDraw.Draw(im)\n",
        "  #draw.polygon([randCoOr(), randCoOr(), randCoOr()], fill = (255,0,0))\n",
        "  #draw.polygon([randCoOr(), randCoOr(), randCoOr()], fill = 'yellow')\n",
        "  #draw.polygon([randCoOr(), randCoOr(), randCoOr()], fill)\n",
        "  draw.point(randCoOr(), fill)\n",
        "  del draw\n",
        "  return im\n",
        "\n",
        "def genFullImg(clCode):\n",
        "  im = Image.new('RGB', (255, 255))\n",
        "  for i in range(1000):\n",
        "    red = min(255,max(0,clCode))\n",
        "    green = min(255,max(0,clCode-255))\n",
        "    blue = min(255,max(0,clCode-2*255))\n",
        "    im = randTri(im,(red,green,blue))\n",
        "  return im\n",
        "    \n",
        "img = genFullImg(30)\n",
        "imshow(img)\n"
      ],
      "execution_count": 0,
      "outputs": [
        {
          "output_type": "execute_result",
          "data": {
            "text/plain": [
              "<matplotlib.image.AxesImage at 0x7f38d14426d8>"
            ]
          },
          "metadata": {
            "tags": []
          },
          "execution_count": 15
        },
        {
          "output_type": "display_data",
          "data": {
            "image/png": "[encoded data removed]",
            "text/plain": [
              "<Figure size 432x288 with 1 Axes>"
            ]
          },
          "metadata": {
            "tags": []
          }
        }
      ]
    },
    {
      "cell_type": "code",
      "metadata": {
        "id": "EhAMzIvEGl5c",
        "colab_type": "code",
        "colab": {}
      },
      "source": [
        ""
      ],
      "execution_count": 0,
      "outputs": []
    },
    {
      "cell_type": "code",
      "metadata": {
        "id": "Xm-2-JoWHlg8",
        "colab_type": "code",
        "colab": {}
      },
      "source": [
        "def genImgDatabase(numOfType,imgNumPerType):\n",
        "  database = []\n",
        "  for typ in range(numOfType):\n",
        "    img = genFullImg(int(typ*(3*255)/numOfType))    \n",
        "    database.append({1,chr(ord('a')+typ)})\n",
        "    imshow(img)\n",
        "  return database"
      ],
      "execution_count": 0,
      "outputs": []
    },
    {
      "cell_type": "code",
      "metadata": {
        "id": "V1IhuvTS2tjf",
        "colab_type": "code",
        "outputId": "a5932aff-6435-466e-a5e4-4003254725ca",
        "colab": {
          "base_uri": "https://localhost:8080/",
          "height": 449
        }
      },
      "source": [
        "DB = genImgDatabase(10,100)\n",
        "for i in DB:\n",
        "  print(DB[0,i])"
      ],
      "execution_count": 0,
      "outputs": [
        {
          "output_type": "error",
          "ename": "TypeError",
          "evalue": "ignored",
          "traceback": [
            "\u001b[0;31m---------------------------------------------------------------------------\u001b[0m",
            "\u001b[0;31mTypeError\u001b[0m                                 Traceback (most recent call last)",
            "\u001b[0;32m<ipython-input-26-355282ff1e57>\u001b[0m in \u001b[0;36m<module>\u001b[0;34m()\u001b[0m\n\u001b[1;32m      1\u001b[0m \u001b[0mDB\u001b[0m \u001b[0;34m=\u001b[0m \u001b[0mgenImgDatabase\u001b[0m\u001b[0;34m(\u001b[0m\u001b[0;36m10\u001b[0m\u001b[0;34m,\u001b[0m\u001b[0;36m100\u001b[0m\u001b[0;34m)\u001b[0m\u001b[0;34m\u001b[0m\u001b[0;34m\u001b[0m\u001b[0m\n\u001b[1;32m      2\u001b[0m \u001b[0;32mfor\u001b[0m \u001b[0mi\u001b[0m \u001b[0;32min\u001b[0m \u001b[0mDB\u001b[0m\u001b[0;34m:\u001b[0m\u001b[0;34m\u001b[0m\u001b[0;34m\u001b[0m\u001b[0m\n\u001b[0;32m----> 3\u001b[0;31m   \u001b[0mprint\u001b[0m\u001b[0;34m(\u001b[0m\u001b[0mDB\u001b[0m\u001b[0;34m[\u001b[0m\u001b[0;36m0\u001b[0m\u001b[0;34m,\u001b[0m\u001b[0mi\u001b[0m\u001b[0;34m]\u001b[0m\u001b[0;34m)\u001b[0m\u001b[0;34m\u001b[0m\u001b[0;34m\u001b[0m\u001b[0m\n\u001b[0m",
            "\u001b[0;31mTypeError\u001b[0m: list indices must be integers or slices, not tuple"
          ]
        },
        {
          "output_type": "display_data",
          "data": {
            "image/png": "[encoded data removed]",
            "text/plain": [
              "<Figure size 432x288 with 1 Axes>"
            ]
          },
          "metadata": {
            "tags": []
          }
        }
      ]
    },
    {
      "cell_type": "code",
      "metadata": {
        "id": "LatJFEQR2zVe",
        "colab_type": "code",
        "outputId": "1f81e34b-fab9-4f8c-d99e-83c109e05967",
        "colab": {
          "base_uri": "https://localhost:8080/",
          "height": 34
        }
      },
      "source": [
        ""
      ],
      "execution_count": 0,
      "outputs": [
        {
          "output_type": "stream",
          "text": [
            "20\n"
          ],
          "name": "stdout"
        }
      ]
    },
    {
      "cell_type": "code",
      "metadata": {
        "id": "oPArlzIfQx7A",
        "colab_type": "code",
        "outputId": "9e40eaed-65e2-49af-91db-6311845bd5e6",
        "colab": {
          "base_uri": "https://localhost:8080/",
          "height": 34
        }
      },
      "source": [
        ""
      ],
      "execution_count": 0,
      "outputs": [
        {
          "output_type": "stream",
          "text": [
            "20\n"
          ],
          "name": "stdout"
        }
      ]
    },
    {
      "cell_type": "code",
      "metadata": {
        "id": "H9eMVSvAShoB",
        "colab_type": "code",
        "colab": {}
      },
      "source": [
        ""
      ],
      "execution_count": 0,
      "outputs": []
    }
  ]
}