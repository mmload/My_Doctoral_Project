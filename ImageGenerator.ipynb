{
  "nbformat": 4,
  "nbformat_minor": 0,
  "metadata": {
    "colab": {
      "name": "ImageGenerator.ipynb",
      "version": "0.3.2",
      "provenance": [],
      "collapsed_sections": [],
      "include_colab_link": true
    },
    "kernelspec": {
      "name": "python3",
      "display_name": "Python 3"
    }
  },
  "cells": [
    {
      "cell_type": "markdown",
      "metadata": {
        "id": "view-in-github",
        "colab_type": "text"
      },
      "source": [
        "<a href=\"https://colab.research.google.com/github/mmload/My_Project/blob/master/ImageGenerator.ipynb\" target=\"_parent\"><img src=\"https://colab.research.google.com/assets/colab-badge.svg\" alt=\"Open In Colab\"/></a>"
      ]
    },
    {
      "cell_type": "code",
      "metadata": {
        "id": "ZLhIAQxjZ6nP",
        "colab_type": "code",
        "outputId": "af9d5f27-8621-4674-efb2-381a99ad483c",
        "colab": {
          "base_uri": "https://localhost:8080/",
          "height": 122
        }
      },
      "source": [
        "from google.colab import drive\n",
        "drive.mount('/content/drive')"
      ],
      "execution_count": 0,
      "outputs": [
        {
          "output_type": "stream",
          "text": [
            "Go to this URL in a browser: https://accounts.google.com/o/oauth2/auth?client_id=947318989803-6bn6qk8qdgf4n4g3pfee6491hc0brc4i.apps.googleusercontent.com&redirect_uri=urn%3Aietf%3Awg%3Aoauth%3A2.0%3Aoob&scope=email%20https%3A%2F%2Fwww.googleapis.com%2Fauth%2Fdocs.test%20https%3A%2F%2Fwww.googleapis.com%2Fauth%2Fdrive%20https%3A%2F%2Fwww.googleapis.com%2Fauth%2Fdrive.photos.readonly%20https%3A%2F%2Fwww.googleapis.com%2Fauth%2Fpeopleapi.readonly&response_type=code\n",
            "\n",
            "Enter your authorization code:\n",
            "··········\n",
            "Mounted at /content/drive\n"
          ],
          "name": "stdout"
        }
      ]
    },
    {
      "cell_type": "code",
      "metadata": {
        "id": "di_pzsvhZlu3",
        "colab_type": "code",
        "outputId": "92a81f69-d3d0-47f1-a694-1695ce2ef34b",
        "colab": {
          "base_uri": "https://localhost:8080/",
          "height": 34
        }
      },
      "source": [
        "cd /content/drive/My Drive/Colab Notebooks/My Project"
      ],
      "execution_count": 0,
      "outputs": [
        {
          "output_type": "stream",
          "text": [
            "/content/drive/My Drive/Colab Notebooks/My Project\n"
          ],
          "name": "stdout"
        }
      ]
    },
    {
      "cell_type": "code",
      "metadata": {
        "id": "cOy4cLQtdAcF",
        "colab_type": "code",
        "colab": {}
      },
      "source": [
        "import numpy as np\n",
        "import random\n",
        "from PIL import Image,ImageDraw\n",
        "from matplotlib.pyplot import imshow"
      ],
      "execution_count": 0,
      "outputs": []
    },
    {
      "cell_type": "code",
      "metadata": {
        "id": "Cds2gE-u2fSt",
        "colab_type": "code",
        "colab": {}
      },
      "source": [
        "import shutil\n",
        "import os\n",
        "\n",
        "xDir = 'dataset'\n",
        "numOfType = 10\n",
        "numInAType = 5\n",
        "numOfTime = 3\n",
        "imWidth = 255\n",
        "imHeight = 255\n",
        "\n",
        "shutil.rmtree(xDir, ignore_errors=True)\n",
        "os.mkdir(xDir)\n",
        "for i in range(numOfType):\n",
        "  path = xDir+'/'+str(i+1)\n",
        "  os.mkdir(path)\n",
        "  for j in range(numInAType):\n",
        "    os.mkdir(path+'/'+str(j+1))"
      ],
      "execution_count": 0,
      "outputs": []
    },
    {
      "cell_type": "code",
      "metadata": {
        "id": "f6yEAxxz3Eq4",
        "colab_type": "code",
        "outputId": "7c0247c4-a90d-4307-d5a3-e4ee5fe169ff",
        "colab": {
          "base_uri": "https://localhost:8080/",
          "height": 269
        }
      },
      "source": [
        "def randCoOr(imWidth,imHeight):\n",
        "  rand = (random.randint(0,imWidth),random.randint(0,imHeight))\n",
        "  return rand\n",
        "\n",
        "def randTri(im,fill):\n",
        "  draw = ImageDraw.Draw(im)\n",
        "  draw.point(randCoOr(im.width,im.height), fill)\n",
        "  del draw\n",
        "  return im\n",
        "\n",
        "def genFullImg(imageWidth,imageHeight,percentPoint,randColor):\n",
        "  im = Image.new('RGB', (imageWidth, imageHeight))\n",
        "  for i in range(int(imageWidth*imageWidth*percentPoint/100)):\n",
        "    im = randTri(im,randColor)\n",
        "  return im\n",
        "\n",
        "def imgGen(numOfType,numInAType,imWidth,imHeight):\n",
        "  for i in range(numOfType):\n",
        "    path = xDir+'/'+str(i+1)\n",
        "    for j in range(numInAType):\n",
        "      pathh = path+'/'+str(j+1)\n",
        "      randColor = (random.randint(0,255),random.randint(0,255),random.randint(0,255))\n",
        "      for k in range(numOfTime):\n",
        "        im = genFullImg(imWidth,imHeight,2^k+1,randColor)\n",
        "        im.save(pathh+'/'+str(k)+'.png')\n",
        "        imshow(img)\n",
        "        \n",
        "imgGen(numOfType,numInAType,imWidth,imHeight)"
      ],
      "execution_count": 0,
      "outputs": [
        {
          "output_type": "display_data",
          "data": {
            "image/png": "[encoded data removed]",
            "text/plain": [
              "<Figure size 432x288 with 1 Axes>"
            ]
          },
          "metadata": {
            "tags": []
          }
        }
      ]
    },
    {
      "cell_type": "code",
      "metadata": {
        "id": "6j3UQDp34sVS",
        "colab_type": "code",
        "colab": {}
      },
      "source": [
        ""
      ],
      "execution_count": 0,
      "outputs": []
    }
  ]
}